{
 "nbformat": 4,
 "nbformat_minor": 2,
 "metadata": {
  "language_info": {
   "name": "python",
   "codemirror_mode": {
    "name": "ipython",
    "version": 3
   },
   "version": "3.7.5"
  },
  "orig_nbformat": 2,
  "file_extension": ".py",
  "mimetype": "text/x-python",
  "name": "python",
  "npconvert_exporter": "python",
  "pygments_lexer": "ipython3",
  "version": 3
 },
 "cells": [
  {
   "cell_type": "markdown",
   "execution_count": null,
   "metadata": {},
   "outputs": [],
   "source": [
    "Task 2\n",
    "======"
   ]
  },
  {
   "source": [
    "import numpy as np\n",
    "import matplotlib.pyplot as plt\n",
    "\n",
    "from sklearn.datasets import fetch_20newsgroups\n",
    "\n",
    "from sklearn.feature_extraction.text import TfidfVectorizer\n",
    "from sklearn.model_selection import train_test_split\n",
    "\n",
    "from sklearn.naive_bayes import MultinomialNB"
   ],
   "cell_type": "code",
   "outputs": [],
   "metadata": {},
   "execution_count": 6
  },
  {
   "source": [
    "twenty_train = fetch_20newsgroups(subset='train', shuffle=True)"
   ],
   "cell_type": "code",
   "outputs": [],
   "metadata": {},
   "execution_count": 3
  },
  {
   "source": [
    "tfidf_vectorizer = TfidfVectorizer()\n",
    "X_train = tfidf_vectorizer.fit_transform(twenty_train.data)\n",
    "print(X_train.shape)\n",
    "\n",
    "y_train = twenty_train.target\n",
    "print(y_train.shape)"
   ],
   "cell_type": "code",
   "outputs": [
    {
     "output_type": "stream",
     "name": "stdout",
     "text": "(11314, 130107)\n(11314,)\n"
    }
   ],
   "metadata": {},
   "execution_count": 4
  },
  {
   "source": [
    "twenty_test = fetch_20newsgroups(subset='test', shuffle=True)\n",
    "X_test = tfidf_vectorizer.transform(twenty_test.data)\n",
    "print(X_test.shape)\n",
    "\n",
    "y_test_expected = twenty_test.target\n",
    "print(y_test_expected.shape)"
   ],
   "cell_type": "code",
   "outputs": [
    {
     "output_type": "stream",
     "name": "stdout",
     "text": "(7532, 130107)\n(7532,)\n"
    }
   ],
   "metadata": {},
   "execution_count": 5
  },
  {
   "source": [
    "# split training data into partially labelled and partially unlabelled for EM\n",
    "# https://scikit-learn.org/stable/modules/generated/sklearn.model_selection.train_test_split.html\n",
    "X_train_labelled, X_train_unlabelled, y_train_labelled, _ = train_test_split(X_train, y_train, train_size = 0.2)\n",
    "\n",
    "print(X_train_labelled.shape)\n",
    "print(X_train_unlabelled.shape)\n",
    "print(y_train_labelled.shape)"
   ],
   "cell_type": "code",
   "outputs": [
    {
     "output_type": "stream",
     "name": "stdout",
     "text": "(2262, 130107)\n(9052, 130107)\n(2262,)\n"
    }
   ],
   "metadata": {},
   "execution_count": 14
  },
  {
   "cell_type": "code",
   "execution_count": null,
   "metadata": {},
   "outputs": [],
   "source": [
    "def perform_EM(X_train_labelled, y_train_labelled, X_train_unlabelled):\n",
    "    \n",
    "    multinomial_clf = MultinomialNB(alpha = 0.01)\n",
    "    multinomial_clf.fit(X_train_labelled, y_train_labelled)\n",
    "    \n",
    "    class_prob = multinomial_clf.class_log_prior_\n",
    "    feature_prob = multinomial_clf.feature_log_prob_\n",
    "    \n",
    "    old_loss = 0\n",
    "    loss = -1 * (calculate_unlabeled_loss(class_prob, feature_prob, unlabelled_X_tfidf) \\\n",
    "              + calculate_labelled_loss(class_prob, feature_prob, labelled_X_tfidf, labelled_y))\n",
    "    \n",
    "    diff = (loss - old_loss)\n",
    "    print(\"diff before\",diff)\n",
    "    \n",
    "    threshold = np.exp(-10)\n",
    "    \n",
    "    while(abs(diff) > threshold):\n",
    "        old_loss = loss\n",
    "        \n",
    "        #E-step\n",
    "        y_train_unlabelled_predicted = multinomial_clf.predict(X_train_unlabelled)\n",
    "\n",
    "        #Combining the data\n",
    "        X_train_total = vstack([X_train_labelled, X_train_unlabelled])\n",
    "        y_train_total = np.concatenate((y_train_labelled, y_train_unlabelled_predicted), axis = 0)\n",
    "        X_total.shape, y_total.shape\n",
    "\n",
    "\n",
    "        #M-step\n",
    "        multinomial_clf.fit(X_train_total, y_train_total)\n",
    "        \n",
    "        class_prob = multinomial_clf.class_log_prior_\n",
    "        feature_prob = multinomial_clf.feature_log_prob_\n",
    "        print(type(feature_prob), feature_prob.shape)\n",
    "        \n",
    "        loss = -1 * (calculate_unlabeled_loss(class_prob, feature_prob, unlabelled_X_tfidf) \\ \n",
    "                  + calculate_labelled_loss(class_prob, feature_prob, labelled_X_tfidf, labelled_y))\n",
    "\n",
    "        diff = old_loss - loss\n",
    "        print(\"diff\", diff)\n",
    "    return multinomial_clf\n",
    "\n",
    "em_trained_clf = perform_EM(X_train_labelled, y_train_labelled, X_train_unlabelled)\n",
    "\n",
    "\n",
    "\n",
    "\n",
    "\n",
    "\n",
    "\n",
    "\n",
    "\n",
    "\n",
    "\n",
    "\n",
    "\n",
    "\n",
    "\n",
    "\n",
    "\n",
    "\n",
    "\n",
    "\n",
    "\n",
    "\n",
    "\n",
    "\n",
    "\n",
    "\n",
    "\n",
    "\n",
    "\n",
    "\n"
   ]
  }
 ]
}