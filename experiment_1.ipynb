{
 "cells": [
  {
   "cell_type": "code",
   "execution_count": 1,
   "metadata": {},
   "outputs": [],
   "source": [
    "from utils import Twenty_Newsgroups\n",
    "import numpy as np\n",
    "import pandas as pd"
   ]
  },
  {
   "cell_type": "code",
   "execution_count": 1,
   "metadata": {},
   "outputs": [
    {
     "name": "stdout",
     "output_type": "stream",
     "text": [
      "experiment 1\n"
     ]
    }
   ],
   "source": [
    "print(\"experiment 1\")\n"
   ]
  },
  {
   "cell_type": "markdown",
   "metadata": {},
   "source": [
    "Get raw data\n",
    "============="
   ]
  },
  {
   "cell_type": "code",
   "execution_count": 9,
   "metadata": {},
   "outputs": [],
   "source": [
    "tng = Twenty_Newsgroups()\n",
    "raw_data = tng.get_all_training_articles()\n"
   ]
  },
  {
   "cell_type": "markdown",
   "metadata": {},
   "source": [
    "Create pandas dataframe from raw data\n",
    "====================================="
   ]
  },
  {
   "cell_type": "code",
   "execution_count": 14,
   "metadata": {},
   "outputs": [],
   "source": [
    "col_names = ['class_name', 'class_id', 'file_name', 'file_content']\n",
    "tng_df = pd.DataFrame(columns=col_names)\n",
    "\n",
    "classes = raw_data.keys()\n",
    "class_id = 0\n",
    "\n",
    "for class_ in classes:\n",
    "    articles = raw_data[class_]\n",
    "\n",
    "    for article in articles:\n",
    "        tng_df.loc[len(tng_df)] = [class_, class_id, article['article'], article['file_data']]\n",
    "    \n",
    "    class_id += 1\n"
   ]
  },
  {
   "cell_type": "code",
   "execution_count": 15,
   "metadata": {},
   "outputs": [
    {
     "data": {
      "text/html": [
       "<div>\n",
       "<style scoped>\n",
       "    .dataframe tbody tr th:only-of-type {\n",
       "        vertical-align: middle;\n",
       "    }\n",
       "\n",
       "    .dataframe tbody tr th {\n",
       "        vertical-align: top;\n",
       "    }\n",
       "\n",
       "    .dataframe thead th {\n",
       "        text-align: right;\n",
       "    }\n",
       "</style>\n",
       "<table border=\"1\" class=\"dataframe\">\n",
       "  <thead>\n",
       "    <tr style=\"text-align: right;\">\n",
       "      <th></th>\n",
       "      <th>class_name</th>\n",
       "      <th>class_id</th>\n",
       "      <th>file_name</th>\n",
       "      <th>file_content</th>\n",
       "    </tr>\n",
       "  </thead>\n",
       "  <tbody>\n",
       "    <tr>\n",
       "      <th>0</th>\n",
       "      <td>alt.atheism</td>\n",
       "      <td>0</td>\n",
       "      <td>49960</td>\n",
       "      <td>[From: mathew &lt;mathew@mantis.co.uk&gt;\\n, Subject...</td>\n",
       "    </tr>\n",
       "    <tr>\n",
       "      <th>1</th>\n",
       "      <td>alt.atheism</td>\n",
       "      <td>0</td>\n",
       "      <td>51060</td>\n",
       "      <td>[From: mathew &lt;mathew@mantis.co.uk&gt;\\n, Subject...</td>\n",
       "    </tr>\n",
       "    <tr>\n",
       "      <th>2</th>\n",
       "      <td>alt.atheism</td>\n",
       "      <td>0</td>\n",
       "      <td>51119</td>\n",
       "      <td>[From: I3150101@dbstu1.rz.tu-bs.de (Benedikt R...</td>\n",
       "    </tr>\n",
       "    <tr>\n",
       "      <th>3</th>\n",
       "      <td>alt.atheism</td>\n",
       "      <td>0</td>\n",
       "      <td>51120</td>\n",
       "      <td>[From: mathew &lt;mathew@mantis.co.uk&gt;\\n, Subject...</td>\n",
       "    </tr>\n",
       "    <tr>\n",
       "      <th>4</th>\n",
       "      <td>alt.atheism</td>\n",
       "      <td>0</td>\n",
       "      <td>51121</td>\n",
       "      <td>[From: strom@Watson.Ibm.Com (Rob Strom)\\n, Sub...</td>\n",
       "    </tr>\n",
       "    <tr>\n",
       "      <th>...</th>\n",
       "      <td>...</td>\n",
       "      <td>...</td>\n",
       "      <td>...</td>\n",
       "      <td>...</td>\n",
       "    </tr>\n",
       "    <tr>\n",
       "      <th>11309</th>\n",
       "      <td>talk.religion.misc</td>\n",
       "      <td>19</td>\n",
       "      <td>84444</td>\n",
       "      <td>[From: psyrobtw@ubvmsd.cc.buffalo.edu (Robert ...</td>\n",
       "    </tr>\n",
       "    <tr>\n",
       "      <th>11310</th>\n",
       "      <td>talk.religion.misc</td>\n",
       "      <td>19</td>\n",
       "      <td>84445</td>\n",
       "      <td>[From: sandvik@newton.apple.com (Kent Sandvik)...</td>\n",
       "    </tr>\n",
       "    <tr>\n",
       "      <th>11311</th>\n",
       "      <td>talk.religion.misc</td>\n",
       "      <td>19</td>\n",
       "      <td>84446</td>\n",
       "      <td>[From: sandvik@newton.apple.com (Kent Sandvik)...</td>\n",
       "    </tr>\n",
       "    <tr>\n",
       "      <th>11312</th>\n",
       "      <td>talk.religion.misc</td>\n",
       "      <td>19</td>\n",
       "      <td>84507</td>\n",
       "      <td>[From: cutter@gloster.via.mind.org (cutter)\\n,...</td>\n",
       "    </tr>\n",
       "    <tr>\n",
       "      <th>11313</th>\n",
       "      <td>talk.religion.misc</td>\n",
       "      <td>19</td>\n",
       "      <td>84558</td>\n",
       "      <td>[Subject: Re: Albert Sabin\\n, From: rfox@charl...</td>\n",
       "    </tr>\n",
       "  </tbody>\n",
       "</table>\n",
       "<p>11314 rows × 4 columns</p>\n",
       "</div>"
      ],
      "text/plain": [
       "               class_name class_id file_name  \\\n",
       "0             alt.atheism        0     49960   \n",
       "1             alt.atheism        0     51060   \n",
       "2             alt.atheism        0     51119   \n",
       "3             alt.atheism        0     51120   \n",
       "4             alt.atheism        0     51121   \n",
       "...                   ...      ...       ...   \n",
       "11309  talk.religion.misc       19     84444   \n",
       "11310  talk.religion.misc       19     84445   \n",
       "11311  talk.religion.misc       19     84446   \n",
       "11312  talk.religion.misc       19     84507   \n",
       "11313  talk.religion.misc       19     84558   \n",
       "\n",
       "                                            file_content  \n",
       "0      [From: mathew <mathew@mantis.co.uk>\\n, Subject...  \n",
       "1      [From: mathew <mathew@mantis.co.uk>\\n, Subject...  \n",
       "2      [From: I3150101@dbstu1.rz.tu-bs.de (Benedikt R...  \n",
       "3      [From: mathew <mathew@mantis.co.uk>\\n, Subject...  \n",
       "4      [From: strom@Watson.Ibm.Com (Rob Strom)\\n, Sub...  \n",
       "...                                                  ...  \n",
       "11309  [From: psyrobtw@ubvmsd.cc.buffalo.edu (Robert ...  \n",
       "11310  [From: sandvik@newton.apple.com (Kent Sandvik)...  \n",
       "11311  [From: sandvik@newton.apple.com (Kent Sandvik)...  \n",
       "11312  [From: cutter@gloster.via.mind.org (cutter)\\n,...  \n",
       "11313  [Subject: Re: Albert Sabin\\n, From: rfox@charl...  \n",
       "\n",
       "[11314 rows x 4 columns]"
      ]
     },
     "execution_count": 15,
     "metadata": {},
     "output_type": "execute_result"
    }
   ],
   "source": [
    "tng_df\n"
   ]
  },
  {
   "cell_type": "markdown",
   "metadata": {},
   "source": [
    "Cleanse file contents\n",
    "====================="
   ]
  },
  {
   "cell_type": "code",
   "execution_count": null,
   "metadata": {},
   "outputs": [],
   "source": []
  }
 ],
 "metadata": {
  "file_extension": ".py",
  "kernelspec": {
   "display_name": "Python 3",
   "language": "python",
   "name": "python3"
  },
  "language_info": {
   "codemirror_mode": {
    "name": "ipython",
    "version": 3
   },
   "file_extension": ".py",
   "mimetype": "text/x-python",
   "name": "python",
   "nbconvert_exporter": "python",
   "pygments_lexer": "ipython3",
   "version": "3.7.3"
  },
  "mimetype": "text/x-python",
  "name": "python",
  "npconvert_exporter": "python",
  "pygments_lexer": "ipython3",
  "version": 3
 },
 "nbformat": 4,
 "nbformat_minor": 2
}
