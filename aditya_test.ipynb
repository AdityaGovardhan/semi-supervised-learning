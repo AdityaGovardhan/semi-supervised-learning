{
 "nbformat": 4,
 "nbformat_minor": 2,
 "metadata": {
  "language_info": {
   "name": "python",
   "codemirror_mode": {
    "name": "ipython",
    "version": 3
   },
   "version": "3.7.5"
  },
  "orig_nbformat": 2,
  "file_extension": ".py",
  "mimetype": "text/x-python",
  "name": "python",
  "npconvert_exporter": "python",
  "pygments_lexer": "ipython3",
  "version": 3
 },
 "cells": [
  {
   "cell_type": "markdown",
   "execution_count": null,
   "metadata": {},
   "outputs": [],
   "source": [
    "Task 1\n",
    "======"
   ]
  },
  {
   "source": [
    "import numpy as np\n",
    "import matplotlib.pyplot as plt\n",
    "\n",
    "from sklearn.datasets import fetch_20newsgroups\n",
    "\n",
    "from sklearn.feature_extraction.text import TfidfVectorizer\n",
    "\n",
    "from sklearn.naive_bayes import MultinomialNB"
   ],
   "cell_type": "code",
   "outputs": [],
   "metadata": {},
   "execution_count": 55
  },
  {
   "source": [
    "twenty_train = fetch_20newsgroups(subset='train', shuffle=True)"
   ],
   "cell_type": "code",
   "outputs": [
    {
     "output_type": "stream",
     "name": "stderr",
     "text": "Downloading 20news dataset. This may take a few minutes.\nDownloading dataset from https://ndownloader.figshare.com/files/5975967 (14 MB)\n"
    }
   ],
   "metadata": {},
   "execution_count": 2
  },
  {
   "source": [
    "tfidf_vectorizer = TfidfVectorizer()\n",
    "X_train = tfidf_vectorizer.fit_transform(twenty_train.data)\n",
    "print(X_train.shape)\n",
    "\n",
    "y_train = twenty_train.target\n",
    "print(y_train.shape)"
   ],
   "cell_type": "code",
   "outputs": [
    {
     "output_type": "stream",
     "name": "stdout",
     "text": "(11314, 130107)\n(11314,)\n"
    }
   ],
   "metadata": {},
   "execution_count": 25
  },
  {
   "source": [
    "clf = MultinomialNB(alpha = 0.01)\n",
    "clf = clf.fit(X_train, y_train)"
   ],
   "cell_type": "code",
   "outputs": [],
   "metadata": {},
   "execution_count": 45
  },
  {
   "source": [
    "twenty_test = fetch_20newsgroups(subset='test', shuffle=True)\n",
    "X_test = tfidf_vectorizer.transform(twenty_test.data)\n",
    "print(X_test.shape)\n",
    "\n",
    "y_test_expected = twenty_test.target\n",
    "print(y_test_expected.shape)"
   ],
   "cell_type": "code",
   "outputs": [
    {
     "output_type": "stream",
     "name": "stdout",
     "text": "(7532, 130107)\n(7532,)\n"
    }
   ],
   "metadata": {},
   "execution_count": 46
  },
  {
   "source": [
    "y_test_predicted = clf.predict(X_test)\n",
    "\n",
    "print(\"accuracy: \", np.sum(y_test_predicted == y_test_expected) / len(y_test_predicted))"
   ],
   "cell_type": "code",
   "outputs": [
    {
     "output_type": "stream",
     "name": "stdout",
     "text": "accuracy:  0.8352363250132767\n"
    }
   ],
   "metadata": {},
   "execution_count": 47
  },
  {
   "source": [
    "\n",
    "step = 2\n",
    "percentages = range(step, 100 + step, step)\n",
    "\n",
    "accuracies = list()\n",
    "train_amount = list()\n",
    "\n",
    "for percentage in percentages:\n",
    "    train_index = (X_train.shape[0] * percentage) // 100\n",
    "    \n",
    "    X_train_loop = X_train[:train_index, :]\n",
    "    y_train_loop = y_train[:train_index]\n",
    "    \n",
    "    X_test_loop = X_test\n",
    "    y_test_expected_loop = y_test_expected\n",
    "\n",
    "    clf = MultinomialNB(alpha = 0.01)\n",
    "    clf = clf.fit(X_train_loop, y_train_loop)\n",
    "\n",
    "    y_test_predicted_loop = clf.predict(X_test_loop)\n",
    "\n",
    "    accuracy = np.sum(y_test_predicted_loop == y_test_expected_loop) / len(y_test_predicted_loop)\n",
    "    print(\"accuracy: \", accuracy)\n",
    "\n",
    "    train_amount.append(train_index)\n",
    "    accuracies.append(accuracy)\n",
    "\n",
    "plt.plot(train_amount, accuracies)\n",
    "plt.xlabel(\"amount of training data\")\n",
    "plt.ylabel(\"prediction accuracy for const testing data\")\n"
   ],
   "cell_type": "code",
   "outputs": [
    {
     "output_type": "error",
     "evalue": "Error: EACCES: permission denied, open '/home/vsonline/.vs-liveshare-keychain'"
    }
   ],
   "metadata": {},
   "execution_count": null
  },
  {
   "cell_type": "code",
   "execution_count": null,
   "metadata": {},
   "outputs": [],
   "source": []
  }
 ]
}